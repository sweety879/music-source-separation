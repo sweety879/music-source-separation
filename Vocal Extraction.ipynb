{
  "nbformat": 4,
  "nbformat_minor": 0,
  "metadata": {
    "colab": {
      "name": "SMM.ipynb",
      "provenance": [],
      "collapsed_sections": []
    },
    "kernelspec": {
      "name": "python3",
      "display_name": "Python 3"
    }
  },
  "cells": [
    {
      "cell_type": "code",
      "metadata": {
        "id": "kgKaXr5kHEfp"
      },
      "source": [
        "import librosa  as lr\n",
        "import matplotlib.pyplot as plt\n",
        "import pandas as pd\n",
        "import numpy as np\n",
        "import soundfile\n"
      ],
      "execution_count": null,
      "outputs": []
    },
    {
      "cell_type": "code",
      "metadata": {
        "id": "Lr4-TyC_XJWM"
      },
      "source": [
        "def normalization(data):\n",
        "    mean=np.mean(data,axis=0)\n",
        "    std=np.std(data,axis=0)\n",
        "    return (0.5 * (np.tanh(0.01 * ((data - mean) / std)) + 1))"
      ],
      "execution_count": null,
      "outputs": []
    },
    {
      "cell_type": "code",
      "metadata": {
        "id": "9qfqYo8KXKOh"
      },
      "source": [
        "def feature_extraction(mixture,vocal):\n",
        "  #loading the data\n",
        "  mixture_wave,sr = lr.load(mixture,sr=16000)\n",
        "  vocal_wave  ,sr = lr.load(vocal ,sr=16000)\n",
        "\n",
        "  #extracting stft of audion files\n",
        "  mixture_stft    = lr.stft(mixture_wave,n_fft=512,hop_length=256,win_length=512) \n",
        "  vocal_stft      = lr.stft(vocal_wave,n_fft=512,hop_length=256,win_length=512)\n",
        "\n",
        "  # Magnitude of STFT -> spectrogram\n",
        "  mixture_data    = np.abs(mixture_stft)\n",
        "  vocal_data      = np.abs(vocal_stft)\n",
        "\n",
        "  mixture_data    = np.transpose(mixture_data)\n",
        "  vocal_data      = np.transpose(vocal_data)\n",
        "\n",
        "\n",
        "  #normalisation of the data\n",
        "  mixture_data    = normalization(mixture_data)\n",
        "  vocal_data      = normalization(vocal_data)\n",
        " \n",
        "  #Generating mask  \n",
        "  mask            = np.divide(vocal_data,mixture_data+np.finfo(float).eps)\n",
        "\n",
        "  n_context = int(21)\n",
        "  n_pad     =int(n_context/2)\n",
        "\n",
        "   \n",
        "  # padding the data\n",
        "  mixture_data    =np.vstack(([mixture_data[0]]*n_pad,mixture_data))\n",
        "  mixture_data    =np.vstack((mixture_data,[mixture_data[-1]]*n_pad))\n",
        "  \n",
        "\n",
        "\n",
        "  input = []\n",
        "  i = 0\n",
        "  while(i+n_context<=len(mixture_data)):\n",
        "    input.append(mixture_data[i:i+n_context,:])\n",
        "    i+=1\n",
        "\n",
        "  mixture_data = np.array(input)  \n",
        "  \n",
        "  return mixture_data , mask  "
      ],
      "execution_count": null,
      "outputs": []
    },
    {
      "cell_type": "code",
      "metadata": {
        "id": "LASBLGMPXN59"
      },
      "source": [
        "x=[]\n",
        "y=[]\n",
        "#np.seterr(divide='ignore', invalid='ignore')\n",
        "for i in range(1,51):  \n",
        "  mixture_path = \"C:\\\\Users\\\\sseela\\\\Downloads\\\\Training\\\\mixture\\\\mixture\"+str(i)+\".wav\" \n",
        "  vocal_path   = \"C:\\\\Users\\\\sseela\\\\Downloads\\\\Training\\\\Vocals\\\\vocal\"+str(i)+\".wav\"\n",
        "  data , mask = feature_extraction(mixture_path,vocal_path)\n",
        "  x.append(data)\n",
        "  y.append(mask)\n",
        "\n",
        "#creating datasset\n",
        "x=np.vstack(x)\n",
        "y=np.vstack(y)\n"
      ],
      "execution_count": null,
      "outputs": []
    },
    {
      "cell_type": "code",
      "metadata": {
        "id": "hqfmMhM5XS70"
      },
      "source": [
        "import tensorflow as tf\n",
        "from tensorflow.keras.layers import LSTM\n",
        "from tensorflow.keras.layers import Dense"
      ],
      "execution_count": null,
      "outputs": []
    },
    {
      "cell_type": "code",
      "metadata": {
        "id": "ywHHT0pSXWDU"
      },
      "source": [
        "model=tf.keras.Sequential()\n",
        "model.add(LSTM(128,input_shape=(21,257),return_sequences=True))\n",
        "model.add(LSTM(128,return_sequences=False))\n",
        "model.add(Dense(257,activation='tanh'))\n",
        "model.compile(loss='mean_absolute_error',optimizer='adam', metrics=['accuracy'])\n",
        "model.summary()"
      ],
      "execution_count": null,
      "outputs": []
    },
    {
      "cell_type": "code",
      "metadata": {
        "id": "rK3FZh_bXuaW"
      },
      "source": [
        "model.fit(x,y,epoch=100,batchsize=256,verbose=1)"
      ],
      "execution_count": null,
      "outputs": []
    },
    {
      "cell_type": "code",
      "metadata": {
        "id": "ksqLvt_DYtfQ"
      },
      "source": [
        "def feature_extraction_test(stft_data):\n",
        "  n_context = int(21)\n",
        "  n_pad     =int(n_context/2)\n",
        "\n",
        "  stft_data    = np.vstack(([stft_data[0]]*n_pad,stft_data))\n",
        "  stft_data    = np.vstack((stft_data,[stft_data[-1]]*n_pad))\n",
        "  \n",
        "\n",
        "  input = []\n",
        "  i = 0\n",
        "  while(i+n_context<=len(stft_data)):\n",
        "    input.append(stft_data[i:i+n_context,:])\n",
        "    i+=1\n",
        "\n",
        "  mixture_data = np.array(input)\n",
        "\n",
        "  return mixture_data"
      ],
      "execution_count": null,
      "outputs": []
    },
    {
      "cell_type": "code",
      "metadata": {
        "id": "dpNXK4OMX8Ad"
      },
      "source": [
        "def test_SMM(mixture):\n",
        "    mixture           = \"C:\\\\Users\\\\sseela\\\\Downloads\\\\Testing\\\\mixture\\\\mixture\"\n",
        "    mixture_wave,sr   = lr.load(mixture,sr=16000)\n",
        "    mixture_stft      = lr.stft(mixture_wave,n_fft=512,hop_length=256,win_length=512) \n",
        "    mmixture_stft     = np.transpose(np.absolute(mixture_stft))\n",
        "    mixture_stft_norm = normalisation(mixture_stft)\n",
        "    mask_generation   = model.predict(feature_extraction_test(mixture_stft_norm))\n",
        "    istft = lr.core.istft(np.transpose(mixture_stft*mask_generation),hop_length=256,win_length=512)\n",
        "    soundfile.write('C:\\\\Python\\\\Python38\\\\ma.wav', istft, sr)\n"
      ],
      "execution_count": null,
      "outputs": []
    },
    {
      "cell_type": "code",
      "metadata": {
        "id": "VbmFoxPyYUmk"
      },
      "source": [
        ""
      ],
      "execution_count": null,
      "outputs": []
    }
  ]
}